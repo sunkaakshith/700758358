{
  "nbformat": 4,
  "nbformat_minor": 0,
  "metadata": {
    "colab": {
      "provenance": [],
      "authorship_tag": "ABX9TyPlINq5YgQdPIMYM2+h/rIB",
      "include_colab_link": true
    },
    "kernelspec": {
      "name": "python3",
      "display_name": "Python 3"
    },
    "language_info": {
      "name": "python"
    }
  },
  "cells": [
    {
      "cell_type": "markdown",
      "metadata": {
        "id": "view-in-github",
        "colab_type": "text"
      },
      "source": [
        "<a href=\"https://colab.research.google.com/github/sunkaakshith/700758358/blob/main/Untitled4.ipynb\" target=\"_parent\"><img src=\"https://colab.research.google.com/assets/colab-badge.svg\" alt=\"Open In Colab\"/></a>"
      ]
    },
    {
      "cell_type": "code",
      "execution_count": null,
      "metadata": {
        "id": "9krIXsyDjatb"
      },
      "outputs": [],
      "source": []
    },
    {
      "cell_type": "markdown",
      "source": [
        "#700758358\n"
      ],
      "metadata": {
        "id": "PLJuT1Tdjdk8"
      }
    },
    {
      "cell_type": "code",
      "source": [
        "a=input(\"enter first name\")\n",
        "b=input(\"enter last name\")\n",
        "full=a+\" \"+b\n",
        "print(full)"
      ],
      "metadata": {
        "colab": {
          "base_uri": "https://localhost:8080/"
        },
        "id": "M5ggnAJsjf7d",
        "outputId": "f03cd170-4e6d-445c-c3b1-73c4e9ad58dc"
      },
      "execution_count": 1,
      "outputs": [
        {
          "output_type": "stream",
          "name": "stdout",
          "text": [
            "enter first nameAkshith Reddy\n",
            "enter last nameSunka\n",
            "Akshith Reddy Sunka\n"
          ]
        }
      ]
    }
  ]
}